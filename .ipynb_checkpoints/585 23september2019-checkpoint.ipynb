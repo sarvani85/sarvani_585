{
 "cells": [
  {
   "cell_type": "markdown",
   "metadata": {},
   "source": [
    "# operators\n",
    "1.arthematic\n",
    "2.logical\n",
    "3.assignment\n",
    "4.bitwise\n",
    "5.identify \n",
    "6.comparision\n",
    "7.membership\n"
   ]
  },
  {
   "cell_type": "markdown",
   "metadata": {},
   "source": [
    "## 1.arthematic"
   ]
  },
  {
   "cell_type": "code",
   "execution_count": 1,
   "metadata": {},
   "outputs": [
    {
     "name": "stdout",
     "output_type": "stream",
     "text": [
      "enter a value:5\n",
      "enter b value:6\n",
      "11\n"
     ]
    }
   ],
   "source": [
    "a=int(input(\"enter a value:\"))\n",
    "b=int(input(\"enter b value:\"))\n",
    "c=a+b\n",
    "print(c)\n"
   ]
  },
  {
   "cell_type": "code",
   "execution_count": 3,
   "metadata": {},
   "outputs": [
    {
     "name": "stdout",
     "output_type": "stream",
     "text": [
      "enter a value:45\n",
      "enter b value:35\n",
      "10\n"
     ]
    }
   ],
   "source": [
    "a=int(input(\"enter a value:\"))\n",
    "b=int(input(\"enter b value:\"))\n",
    "c=a-b\n",
    "print(c)\n"
   ]
  },
  {
   "cell_type": "code",
   "execution_count": 4,
   "metadata": {},
   "outputs": [
    {
     "name": "stdout",
     "output_type": "stream",
     "text": [
      "enter a value:3\n",
      "enter b value:5\n",
      "15\n"
     ]
    }
   ],
   "source": [
    "a=int(input(\"enter a value:\"))\n",
    "b=int(input(\"enter b value:\"))\n",
    "c=a*b\n",
    "print(c)\n"
   ]
  },
  {
   "cell_type": "code",
   "execution_count": 5,
   "metadata": {},
   "outputs": [
    {
     "name": "stdout",
     "output_type": "stream",
     "text": [
      "enter a value:15\n",
      "enter b value:2\n",
      "7.5\n"
     ]
    }
   ],
   "source": [
    "a=int(input(\"enter a value:\"))\n",
    "b=int(input(\"enter b value:\"))\n",
    "c=a/b\n",
    "print(c)"
   ]
  },
  {
   "cell_type": "code",
   "execution_count": 6,
   "metadata": {},
   "outputs": [
    {
     "name": "stdout",
     "output_type": "stream",
     "text": [
      "enter a value:20\n",
      "enter b value:3\n",
      "2\n"
     ]
    }
   ],
   "source": [
    "a=int(input(\"enter a value:\"))\n",
    "b=int(input(\"enter b value:\"))\n",
    "c=a%b\n",
    "print(c)"
   ]
  },
  {
   "cell_type": "code",
   "execution_count": 7,
   "metadata": {},
   "outputs": [
    {
     "name": "stdout",
     "output_type": "stream",
     "text": [
      "enter a value:5\n",
      "enter b value:2\n",
      "2\n"
     ]
    }
   ],
   "source": [
    "a=int(input(\"enter a value:\"))\n",
    "b=int(input(\"enter b value:\"))\n",
    "c=a//b\n",
    "print(c)"
   ]
  },
  {
   "cell_type": "code",
   "execution_count": 8,
   "metadata": {},
   "outputs": [
    {
     "name": "stdout",
     "output_type": "stream",
     "text": [
      "enter a value:5\n",
      "enter b value:2\n",
      "25\n"
     ]
    }
   ],
   "source": [
    "a=int(input(\"enter a value:\"))\n",
    "b=int(input(\"enter b value:\"))\n",
    "c=a**b\n",
    "print(c)"
   ]
  },
  {
   "cell_type": "markdown",
   "metadata": {},
   "source": [
    "## logical"
   ]
  },
  {
   "cell_type": "code",
   "execution_count": 9,
   "metadata": {},
   "outputs": [
    {
     "data": {
      "text/plain": [
       "5"
      ]
     },
     "execution_count": 9,
     "metadata": {},
     "output_type": "execute_result"
    }
   ],
   "source": [
    "a=10\n",
    "b=5\n",
    "10 and 5"
   ]
  },
  {
   "cell_type": "code",
   "execution_count": 11,
   "metadata": {},
   "outputs": [
    {
     "data": {
      "text/plain": [
       "10"
      ]
     },
     "execution_count": 11,
     "metadata": {},
     "output_type": "execute_result"
    }
   ],
   "source": [
    "a=10\n",
    "b=5\n",
    "10 or 5"
   ]
  },
  {
   "cell_type": "code",
   "execution_count": 12,
   "metadata": {},
   "outputs": [
    {
     "name": "stdout",
     "output_type": "stream",
     "text": [
      "enter a value:3\n",
      "enter b value:2\n",
      "0\n"
     ]
    }
   ],
   "source": [
    "a=int(input(\"enter a value:\"))\n",
    "b=int(input(\"enter b value:\"))\n",
    "c=a>>b\n",
    "print(c)"
   ]
  },
  {
   "cell_type": "code",
   "execution_count": 13,
   "metadata": {
    "scrolled": true
   },
   "outputs": [
    {
     "name": "stdout",
     "output_type": "stream",
     "text": [
      "enter a value:3\n",
      "enter b value:2\n",
      "12\n"
     ]
    }
   ],
   "source": [
    "a=int(input(\"enter a value:\"))\n",
    "b=int(input(\"enter b value:\"))\n",
    "c=a<<b\n",
    "print(c)"
   ]
  },
  {
   "cell_type": "markdown",
   "metadata": {},
   "source": [
    "## identify"
   ]
  },
  {
   "cell_type": "code",
   "execution_count": 14,
   "metadata": {},
   "outputs": [
    {
     "data": {
      "text/plain": [
       "True"
      ]
     },
     "execution_count": 14,
     "metadata": {},
     "output_type": "execute_result"
    }
   ],
   "source": [
    "a=10\n",
    "a is 10"
   ]
  },
  {
   "cell_type": "code",
   "execution_count": 15,
   "metadata": {},
   "outputs": [
    {
     "data": {
      "text/plain": [
       "False"
      ]
     },
     "execution_count": 15,
     "metadata": {},
     "output_type": "execute_result"
    }
   ],
   "source": [
    "a=6\n",
    "a is 10"
   ]
  },
  {
   "cell_type": "markdown",
   "metadata": {},
   "source": [
    "## membership"
   ]
  },
  {
   "cell_type": "code",
   "execution_count": 16,
   "metadata": {},
   "outputs": [
    {
     "data": {
      "text/plain": [
       "True"
      ]
     },
     "execution_count": 16,
     "metadata": {},
     "output_type": "execute_result"
    }
   ],
   "source": [
    "a=[1,2,3,4,5]\n",
    "5 in a"
   ]
  },
  {
   "cell_type": "code",
   "execution_count": 17,
   "metadata": {},
   "outputs": [
    {
     "data": {
      "text/plain": [
       "False"
      ]
     },
     "execution_count": 17,
     "metadata": {},
     "output_type": "execute_result"
    }
   ],
   "source": [
    "a=[1,2,3,4,5]\n",
    "5 not in a"
   ]
  },
  {
   "cell_type": "markdown",
   "metadata": {},
   "source": [
    "## assignment"
   ]
  },
  {
   "cell_type": "code",
   "execution_count": 19,
   "metadata": {},
   "outputs": [
    {
     "name": "stdout",
     "output_type": "stream",
     "text": [
      "5\n"
     ]
    }
   ],
   "source": [
    "a=5\n",
    "print(a)"
   ]
  },
  {
   "cell_type": "code",
   "execution_count": 21,
   "metadata": {},
   "outputs": [
    {
     "name": "stdout",
     "output_type": "stream",
     "text": [
      "12\n"
     ]
    }
   ],
   "source": [
    "a=5\n",
    "a+=1\n",
    "a-=3\n",
    "a*=4\n",
    "print(a)"
   ]
  },
  {
   "cell_type": "markdown",
   "metadata": {},
   "source": [
    " # flow control\n",
    "there are 3 flow control statements\n",
    "1.conditional\n",
    "2.transfer\n",
    "3.iterative\n",
    "#### 1.conditional:\n",
    "(1)if\n",
    "(2)elif\n",
    "(3)ese\n",
    "#### 2.transfer statements\n",
    "(1).break\n",
    "(2).pause\n",
    "(3).continue\n",
    "#### 3.iterative statements\n",
    "(1).for\n",
    "(2).while"
   ]
  },
  {
   "cell_type": "markdown",
   "metadata": {},
   "source": [
    "## conditional:\n",
    "#### if else"
   ]
  },
  {
   "cell_type": "code",
   "execution_count": null,
   "metadata": {},
   "outputs": [],
   "source": [
    "###### write a program to check whether a given number even or odd"
   ]
  },
  {
   "cell_type": "code",
   "execution_count": 23,
   "metadata": {},
   "outputs": [
    {
     "name": "stdout",
     "output_type": "stream",
     "text": [
      "enter a value4\n",
      "eve number\n"
     ]
    }
   ],
   "source": [
    "a=int(input(\"enter a value\"))\n",
    "if a%2==0:\n",
    "    print(\"eve number\")\n",
    "else:\n",
    "    print(\"odd number\")"
   ]
  },
  {
   "cell_type": "code",
   "execution_count": 28,
   "metadata": {},
   "outputs": [
    {
     "name": "stdout",
     "output_type": "stream",
     "text": [
      "enter a value14\n",
      "vote elgible to after 4 years\n"
     ]
    }
   ],
   "source": [
    "a=int(input(\"enter a value\"))\n",
    "if a>=18:\n",
    "    print(\"elgible to vote\")\n",
    "else:\n",
    "    a=18-a\n",
    "    print(\"vote elgible to after\",a,\"years\")\n",
    "    "
   ]
  },
  {
   "cell_type": "code",
   "execution_count": 29,
   "metadata": {},
   "outputs": [
    {
     "name": "stdout",
     "output_type": "stream",
     "text": [
      "enter a value110\n",
      "it is divisible\n"
     ]
    }
   ],
   "source": [
    "a=int(input(\"enter a value\"))\n",
    "if a%5==0 and a%11==0:\n",
    "    print(\"it is divisible\")\n",
    "else:\n",
    "    print(\"it is not divisible\")\n",
    "    \n"
   ]
  },
  {
   "cell_type": "code",
   "execution_count": null,
   "metadata": {},
   "outputs": [],
   "source": [
    " to check whether the given number is positive or negetive or zero"
   ]
  },
  {
   "cell_type": "code",
   "execution_count": 31,
   "metadata": {},
   "outputs": [
    {
     "name": "stdout",
     "output_type": "stream",
     "text": [
      "enter a value0\n",
      "a is zero\n"
     ]
    }
   ],
   "source": [
    "a=int(input(\"enter a value\"))\n",
    "if a>0:\n",
    "    print(\"a is positive\")\n",
    "elif a<0:\n",
    "    print(\"a is negative\")\n",
    "else:\n",
    "    print(\"a is zero\")"
   ]
  },
  {
   "cell_type": "code",
   "execution_count": null,
   "metadata": {},
   "outputs": [],
   "source": [
    "###### to find whether the given year is leap year or not"
   ]
  },
  {
   "cell_type": "code",
   "execution_count": 33,
   "metadata": {},
   "outputs": [
    {
     "ename": "SyntaxError",
     "evalue": "invalid syntax (<ipython-input-33-ef22c41f4b90>, line 2)",
     "output_type": "error",
     "traceback": [
      "\u001b[1;36m  File \u001b[1;32m\"<ipython-input-33-ef22c41f4b90>\"\u001b[1;36m, line \u001b[1;32m2\u001b[0m\n\u001b[1;33m    if a%4==0 and ((a%100!=0) 0r (a%400==0)):\u001b[0m\n\u001b[1;37m                              ^\u001b[0m\n\u001b[1;31mSyntaxError\u001b[0m\u001b[1;31m:\u001b[0m invalid syntax\n"
     ]
    }
   ],
   "source": [
    "a=int(input(\"enter a value\" ))\n",
    "if a%4==0 and ((a%100!=0) 0r (a%400==0)):\n",
    "    print (\"a is leap year\")\n",
    "else:\n",
    "    print(\"a is not a leap year\")\n"
   ]
  },
  {
   "cell_type": "code",
   "execution_count": null,
   "metadata": {},
   "outputs": [],
   "source": []
  }
 ],
 "metadata": {
  "kernelspec": {
   "display_name": "Python 3",
   "language": "python",
   "name": "python3"
  },
  "language_info": {
   "codemirror_mode": {
    "name": "ipython",
    "version": 3
   },
   "file_extension": ".py",
   "mimetype": "text/x-python",
   "name": "python",
   "nbconvert_exporter": "python",
   "pygments_lexer": "ipython3",
   "version": "3.7.1"
  }
 },
 "nbformat": 4,
 "nbformat_minor": 2
}
