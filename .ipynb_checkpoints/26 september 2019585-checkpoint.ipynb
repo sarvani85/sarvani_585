{
 "cells": [
  {
   "cell_type": "markdown",
   "metadata": {},
   "source": [
    "# day objectives\n",
    "-string slicing\n",
    "-different programs"
   ]
  },
  {
   "cell_type": "code",
   "execution_count": 3,
   "metadata": {},
   "outputs": [
    {
     "name": "stdout",
     "output_type": "stream",
     "text": [
      "python programming\n",
      "6\n",
      " programming\n"
     ]
    }
   ],
   "source": [
    "s=\"python programming\"\n",
    "print(s[0:])\n",
    "pos=s.index(' ')\n",
    "print(pos)\n",
    "print(s[pos:])"
   ]
  },
  {
   "cell_type": "code",
   "execution_count": 8,
   "metadata": {},
   "outputs": [
    {
     "name": "stdout",
     "output_type": "stream",
     "text": [
      "even pos characters\n",
      "p\n",
      "t\n",
      "o\n",
      " \n",
      "r\n",
      "g\n",
      "a\n",
      "m\n",
      "n\n",
      "odd pos characters\n",
      "y\n",
      "h\n",
      "n\n",
      "p\n",
      "o\n",
      "r\n",
      "m\n",
      "i\n",
      "g\n",
      "pto rgamn\n",
      "yhnpormig\n"
     ]
    }
   ],
   "source": [
    "s=\"python programming\"\n",
    "print(\"even pos characters\")\n",
    "for i in range(len(s)):\n",
    "    if(i%2==0):\n",
    "        print(s[i])\n",
    "print(\"odd pos characters\")\n",
    "for i in range(len(s)):\n",
    "    if(i%2!=0):\n",
    "        print(s[i])\n",
    "print(s[0::2])\n",
    "print(s[1::2])\n",
    "        "
   ]
  },
  {
   "cell_type": "code",
   "execution_count": 3,
   "metadata": {},
   "outputs": [
    {
     "name": "stdout",
     "output_type": "stream",
     "text": [
      "palindrome\n"
     ]
    }
   ],
   "source": [
    "string=\"malayalam\"\n",
    "reverstring=string[::-1]\n",
    "if(string==reverstring):\n",
    "    print(\"palindrome\")"
   ]
  },
  {
   "cell_type": "code",
   "execution_count": 2,
   "metadata": {},
   "outputs": [
    {
     "name": "stdout",
     "output_type": "stream",
     "text": [
      "enter your datainavras2516\n",
      "['i', 'n', 'a', 'v', 'r', 'a', 's']\n",
      "['2', '5', '1', '6']\n",
      "a a i n r s v\n",
      "1 2 5 6\n",
      "a a i n r s v1 2 5 6\n"
     ]
    }
   ],
   "source": [
    "s=input(\"enter your data\")\n",
    "alphabets=[]\n",
    "numeric=[]\n",
    "for i in range(len(s)):\n",
    "    if(s[i].isalpha()):\n",
    "        alphabets.append(s[i])\n",
    "    if(s[i].isnumeric()):\n",
    "        numeric.append(s[i])\n",
    "print(alphabets)\n",
    "print(numeric)\n",
    "alphabets=sorted(alphabets)\n",
    "numeric=sorted(numeric)\n",
    "sorted_alphabet_list=\" \".join(alphabets)\n",
    "sorted_numeric_list=\" \".join(numeric)\n",
    "print(sorted_alphabet_list)\n",
    "print(sorted_numeric_list)\n",
    "data=sorted_alphabet_list+sorted_numeric_list\n",
    "print(data)"
   ]
  },
  {
   "cell_type": "code",
   "execution_count": 2,
   "metadata": {},
   "outputs": [
    {
     "name": "stdout",
     "output_type": "stream",
     "text": [
      "enter a stringsarvani\n",
      "ssss aaaa rrrr vvvv aaaa nnnn iiii "
     ]
    }
   ],
   "source": [
    "s=input(\"enter a string\")\n",
    "for i in range(len(s)):\n",
    "    print(s[i]*4,end=\" \")"
   ]
  },
  {
   "cell_type": "code",
   "execution_count": 6,
   "metadata": {},
   "outputs": [
    {
     "name": "stdout",
     "output_type": "stream",
     "text": [
      "enter a stringsumanth\n",
      "enter a number7\n",
      "sssssss\n",
      "uuuuuu\n",
      "mmmmm\n",
      "aaaa\n",
      "nnn\n",
      "tt\n",
      "h\n"
     ]
    }
   ],
   "source": [
    "s=input(\"enter a string\")\n",
    "r=int(input(\"enter a number\"))\n",
    "for i in range(len(s)):\n",
    "    print(s[i]*r)\n",
    "    r=r-1\n"
   ]
  },
  {
   "cell_type": "code",
   "execution_count": 11,
   "metadata": {},
   "outputs": [
    {
     "name": "stdout",
     "output_type": "stream",
     "text": [
      "enter a stringsarvani5\n",
      "sarvanisarvanisarvanisarvanisarvani\n"
     ]
    }
   ],
   "source": [
    "s=input(\"enter a string\")\n",
    "data=''\n",
    "for i in range(len(s)):\n",
    "    if(s[i].isalpha()):\n",
    "        data=data+s[i]\n",
    "    if(s[i].isnumeric()):\n",
    "        print(data*int(s[i]))\n",
    "        data=''\n",
    "        "
   ]
  },
  {
   "cell_type": "code",
   "execution_count": 8,
   "metadata": {},
   "outputs": [
    {
     "name": "stdout",
     "output_type": "stream",
     "text": [
      "enter a stringboochi\n",
      "['boochi']\n",
      "even pos of data: ihcoob \n",
      " odd pos data: boochi \n",
      "all reverse data: ihcoob "
     ]
    }
   ],
   "source": [
    "data=input(\"enter a string\")\n",
    "data=data.split()\n",
    "print(data)\n",
    "print(\"even pos of data:\",end=\" \")\n",
    "for i in range(len(data)):\n",
    "    if(i%2==0):\n",
    "        print(data[i][::-1],end=\" \")\n",
    "    else:\n",
    "        print(data[i],end=\" \")\n",
    "print(\"\\n odd pos data:\",end=\" \")\n",
    "for i in range(len(data)):\n",
    "    if(i%2==1):\n",
    "        print(data[i][::-1],end=\" \")\n",
    "    else:\n",
    "        print(data[i],end=\" \")\n",
    "print(\"\\nall reverse data:\",end=\" \")\n",
    "for i in range(len(data)):\n",
    "    print(data[i][::-1],end=\" \")\n"
   ]
  },
  {
   "cell_type": "code",
   "execution_count": null,
   "metadata": {},
   "outputs": [],
   "source": [
    "# task\n",
    "s=input()\n",
    "data=''\n",
    "for i in range(len(s)):\n",
    "    if(s[i].isalpha()):\n",
    "        data=data+s[i]\n",
    "    if(s[i].isnumeric()):\n",
    "        print(data*int(s[i]))\n",
    "        data=''\n",
    "print(data)"
   ]
  },
  {
   "cell_type": "code",
   "execution_count": null,
   "metadata": {},
   "outputs": [],
   "source": [
    "s=\"AAAABBBBRRRRREEEE\"\n",
    "#for i in range(len(s)):\n",
    "#    print(s[i],\"---->\",s.count(s[i]))\n",
    "for ch in s:\n",
    "    print(ch,\"---->\",s.count(ch))\n",
    "s=list(s)\n",
    "#print(s)\n",
    "li=[]\n",
    "for ch in s:\n",
    "    if ch not in li:\n",
    "        li.append(ch)\n",
    "#print(li)"
   ]
  },
  {
   "cell_type": "code",
   "execution_count": null,
   "metadata": {},
   "outputs": [],
   "source": [
    "s=input()\n",
    "vow=[]\n",
    "con=[]\n",
    "for i in range(len(s)):\n",
    "    if(s[i]=='a' or s[i]=='e' or s[i]=='i' or s[i]=='o' or s[i]=='u'):\n",
    "        vow.append(s[i])\n",
    "    else:\n",
    "        con.append(s[i])\n",
    "sorted_vow_list=\"\".join(vow)\n",
    "sorted_con_list=\"\".join(con)\n",
    "print(sorted_vow_list, \"are vowels\")\n",
    "print(sorted_con_list,\" are consonants\")  \n",
    "​"
   ]
  },
  {
   "cell_type": "code",
   "execution_count": null,
   "metadata": {},
   "outputs": [],
   "source": [
    "s=\"ADDDAATTTEEEECVVV\"\n",
    "d=list(s)\n",
    "print(s)\n",
    "n=set(d)\n",
    "print(n)\n",
    "for ch in n:\n",
    "    print(ch,\"--->\",d.count(ch))"
   ]
  },
  {
   "cell_type": "code",
   "execution_count": null,
   "metadata": {},
   "outputs": [],
   "source": [
    "s=input()\n",
    "for i in range(len(s)):\n",
    "    if(s[i].isalpha()):\n",
    "        print(s[i])\n",
    "    if(s[i].isnumeric()):\n",
    "        ac=ord(s[i-1])\n",
    "        print(chr(ac+int(s[i])))"
   ]
  },
  {
   "cell_type": "code",
   "execution_count": null,
   "metadata": {},
   "outputs": [],
   "source": [
    "# Data Structures\n",
    "lists\n",
    "tuples\n",
    "Dictionaries\n",
    "# To print directories\n",
    "​\n",
    "print(dir(list))\n",
    "['__add__', '__class__', '__contains__', '__delattr__', '__delitem__', '__dir__', '__doc__', '__eq__', '__format__', '__ge__', '__getattribute__', '__getitem__', '__gt__', '__hash__', '__iadd__', '__imul__', '__init__', '__init_subclass__', '__iter__', '__le__', '__len__', '__lt__', '__mul__', '__ne__', '__new__', '__reduce__', '__reduce_ex__', '__repr__', '__reversed__', '__rmul__', '__setattr__', '__setitem__', '__sizeof__', '__str__', '__subclasshook__', 'append', 'clear', 'copy', 'count', 'extend', 'index', 'insert', 'pop', 'remove', 'reverse', 'sort']\n",
    "append\n",
    "clear\n",
    "method\n",
    "copy\n",
    "count\n",
    "extend\n",
    "index\n",
    "insert\n",
    "pop\n",
    "remove\n",
    "reverse\n",
    "sort\n",
    "Lists"
   ]
  },
  {
   "cell_type": "code",
   "execution_count": null,
   "metadata": {},
   "outputs": [],
   "source": [
    "l3=[4,5,6,7]\n",
    "l3\n",
    "[4, 5, 6, 7]\n",
    "l5\n",
    "l5=[7,8,5,4]\n",
    "l5\n",
    "[7, 8, 5, 4]\n",
    "​\n",
    "#append\n",
    "​\n",
    "l3.append(8)\n",
    "l3\n",
    "[4, 5, 6, 7, 8, 8]\n",
    "\n",
    "l5=[1,2,3,2,4,5,]\n",
    "l5.clear()\n",
    "l5\n",
    "#clear\n",
    "​\n",
    "l5=[1,2,3,2,4,5,]\n",
    "l5.clear()\n",
    "l5\n",
    "​\n",
    "[]\n",
    "# method\n",
    "​\n",
    "​\n",
    "​\n",
    "# copy\n",
    "# copy\n",
    "​\n",
    "# extend\n",
    "​\n",
    "​\n",
    "l5=[1,2,3]\n",
    "l6=[4,5,6]\n",
    "l5.extend(l6)\n",
    "l5\n",
    "[1, 2, 3, 4, 5, 6]\n",
    "l5=[1,2,3,2,4,5,7,8,1,2,3,5,4]\n",
    "# count\n",
    "​\n",
    "l5=[1,2,3,2,4,5,7,8,1,2,3,5,4]\n",
    "l5.count(2)\n",
    "l6=['h','e','l','l','o']\n",
    "l6.count('o')\n",
    "4\n",
    "l6=['h','e','l','l','o']\n",
    "l6.index('o')\n",
    "#index\n",
    "​\n",
    "l6=['h','e','l','l','o']\n",
    "l6.index('o')\n",
    "4\n",
    "l6=['h','e','l','l','o']\n",
    "# insert\n",
    "​\n",
    "l6=['h','e','l','l','o']\n",
    "l6.insert(3,'p')\n",
    "l6\n",
    "['h', 'e', 'l', 'p', 'l', 'o']\n",
    "l6=['h','e','l','l','o']\n",
    "l6.pop(2)\n",
    "l6\n",
    "# pop\n",
    "​\n",
    "l6=['h','e','l','l','o']\n",
    "l6.pop(2)\n",
    "l6\n",
    "['h', 'e', 'l', 'o']\n",
    "e\n",
    "# remove\n",
    "​\n",
    "l6=['h','e','l','l','o']\n",
    "l6.remove('e')\n",
    "l6\n",
    "​\n",
    "['h', 'l', 'l', 'o']\n",
    "# reverse\n",
    "​\n",
    "l5=[1,2,3,2,4,5,]\n",
    "l5.reverse()\n",
    "l5\n",
    "​\n",
    "[5, 4, 2, 3, 2, 1]\n",
    "sort\n",
    "# sort\n",
    "​\n",
    "l5=[5,9,2,1,3,6,7,8,0]\n",
    "l5.sort()\n",
    "l5\n",
    "[0, 1, 2, 3, 5, 6, 7, 8, 9]\n",
    "Tuples\n",
    "t\n",
    "t=(1,2,3)\n",
    "print(t)\n",
    "print(len(t))   #lenght\n",
    "print(max(t))   #maximum\n",
    "print(min(t))   #minimum\n",
    "print(t[0::])   #index\n",
    "print(t[::-1])  #reverse using index\n",
    "(1, 2, 3)\n",
    "3\n",
    "3\n",
    "1\n",
    "(1, 2, 3)\n",
    "(3, 2, 1)\n",
    "t=(1,'w',3,'g',2.0)\n",
    "t=(1,'w',3,'g',2.0)\n",
    "print(t)\n",
    "(1, 'w', 3, 'g', 2.0)\n",
    "# Director"
   ]
  },
  {
   "cell_type": "code",
   "execution_count": null,
   "metadata": {},
   "outputs": [],
   "source": [
    "# count \n",
    "​\n",
    "t=(1,'w',3,'g',2.0,1,3,'w')\n",
    "t.count('w')\n",
    "2\n",
    "# index\n",
    "​\n",
    "t=(1,'w',3,'g',2.0,1,3,'w')\n",
    "t.index('g')\n",
    "3\n",
    "\n",
    "t=(1,'k','y',8.7,1,1,1)\n",
    "l9=list(t)\n",
    "l9\n",
    "# converting to lists\n",
    "​\n",
    "t=(1,'k','y',8.7,1,1,1)\n",
    "l9=list(t)\n",
    "l9\n",
    "[1, 'k', 'y', 8.7, 1, 1, 1]\n",
    "# type \n",
    "​\n",
    "t=(1,'k','y',8.7,1,1,1)\n",
    "type(t)\n",
    "​\n",
    "tuple\n",
    "t2=[1,2,3,4,3,2,4]\n",
    "type(t2)\n",
    "list\n",
    "l5=[1,3,4,2,5]\n",
    "t2=tuple(l5)\n",
    "t2\n",
    "(1, 3, 4, 2, 5)\n",
    "​\n",
    "li=\"jai pubg\"\n",
    "li=list(li)\n",
    "li.sort()\n",
    "li\n",
    "[' ', 'a', 'b', 'g', 'i', 'j', 'p', 'u']\n",
    "li=[78,25,9,7,4,1,5,6,45]\n",
    "li.sort()\n",
    "li[-2]\n",
    "45\n",
    "#\n",
    "li=[78,25,9,7,4,16,45,58,12,16,17]\n",
    "len(li)\n",
    "#output:[1,5,4,7,9,75,6,45,58,12,16,17]\n",
    "11\n",
    "mid=len(li)//2\n",
    "li[mid]\n",
    "l_li=li[:mid]\n",
    "l_li.sort()\n",
    "r_li=li[mid+1:]\n",
    "r_li\n",
    "data=l_li+r_li\n",
    "data\n",
    "data.insert(mid,li[mid])\n",
    "data\n",
    "[4, 7, 9, 25, 78, 16, 45, 58, 12, 16, 17]\n",
    "\n",
    "Day Objectives\n",
    "Dictionaries\n",
    "Github\n",
    "Files\n",
    "Hacker Earth Environment\n",
    "dict={}\n",
    "dict\n",
    "{}\n",
    "type(dict)\n",
    "dict\n",
    "dict1={'Name':'sulthan','gender':'gay','age':'58'}\n",
    "dict1\n",
    "{'Name': 'sulthan', 'gender': 'gay', 'age': '58'}\n",
    "print(dir(dict))\n",
    "['__class__', '__contains__', '__delattr__', '__delitem__', '__dir__', '__doc__', '__eq__', '__format__', '__ge__', '__getattribute__', '__getitem__', '__gt__', '__hash__', '__init__', '__init_subclass__', '__iter__', '__le__', '__len__', '__lt__', '__ne__', '__new__', '__reduce__', '__reduce_ex__', '__repr__', '__setattr__', '__setitem__', '__sizeof__', '__str__', '__subclasshook__', 'clear', 'copy', 'fromkeys', 'get', 'items', 'keys', 'pop', 'popitem', 'setdefault', 'update', 'values']\n",
    "Dictionariy methods\n",
    "clear\n",
    "copy\n",
    "fromkeys\n",
    "get\n",
    "items\n",
    "keys\n",
    "pop\n",
    "popitem\n",
    "setdefault\n",
    "update"
   ]
  },
  {
   "cell_type": "markdown",
   "metadata": {},
   "source": [
    "# Data Structures\n",
    "- lists\n",
    "- tuples\n",
    "- Dictionaries"
   ]
  },
  {
   "cell_type": "code",
   "execution_count": 10,
   "metadata": {},
   "outputs": [
    {
     "name": "stdout",
     "output_type": "stream",
     "text": [
      "['__add__', '__class__', '__contains__', '__delattr__', '__delitem__', '__dir__', '__doc__', '__eq__', '__format__', '__ge__', '__getattribute__', '__getitem__', '__gt__', '__hash__', '__iadd__', '__imul__', '__init__', '__init_subclass__', '__iter__', '__le__', '__len__', '__lt__', '__mul__', '__ne__', '__new__', '__reduce__', '__reduce_ex__', '__repr__', '__reversed__', '__rmul__', '__setattr__', '__setitem__', '__sizeof__', '__str__', '__subclasshook__', 'append', 'clear', 'copy', 'count', 'extend', 'index', 'insert', 'pop', 'remove', 'reverse', 'sort']\n"
     ]
    }
   ],
   "source": [
    "# To print directories\n",
    "\n",
    "print(dir(list))"
   ]
  },
  {
   "cell_type": "code",
   "execution_count": null,
   "metadata": {},
   "outputs": [],
   "source": []
  }
 ],
 "metadata": {
  "kernelspec": {
   "display_name": "Python 3",
   "language": "python",
   "name": "python3"
  },
  "language_info": {
   "codemirror_mode": {
    "name": "ipython",
    "version": 3
   },
   "file_extension": ".py",
   "mimetype": "text/x-python",
   "name": "python",
   "nbconvert_exporter": "python",
   "pygments_lexer": "ipython3",
   "version": "3.7.1"
  }
 },
 "nbformat": 4,
 "nbformat_minor": 2
}
