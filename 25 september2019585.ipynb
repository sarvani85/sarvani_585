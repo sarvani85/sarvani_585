{
 "cells": [
  {
   "cell_type": "markdown",
   "metadata": {},
   "source": [
    "# functions\n",
    "- function with argument with return value\n",
    "- function with argument without return value\n",
    "- function without arguments with return value\n",
    "- function without argument without return value"
   ]
  },
  {
   "cell_type": "code",
   "execution_count": 1,
   "metadata": {},
   "outputs": [
    {
     "name": "stdout",
     "output_type": "stream",
     "text": [
      "enter n value1234\n"
     ]
    },
    {
     "data": {
      "text/plain": [
       "4"
      ]
     },
     "execution_count": 1,
     "metadata": {},
     "output_type": "execute_result"
    }
   ],
   "source": [
    "# sum of digits using function\n",
    "#with argument with return value\n",
    "n=int(input(\"enter n value\"))\n",
    "sum1=0\n",
    "def sumofdigits(n,sum1):\n",
    "    while(n!=0):\n",
    "        sum1=sum1+(n%10)\n",
    "        n=n//10\n",
    "        return sum1\n",
    "sumofdigits(n,sum1)    "
   ]
  },
  {
   "cell_type": "code",
   "execution_count": 2,
   "metadata": {},
   "outputs": [
    {
     "name": "stdout",
     "output_type": "stream",
     "text": [
      "enter n value6\n",
      "perfect number\n"
     ]
    }
   ],
   "source": [
    "#  to print perfect number\n",
    "# with arguments without return value\n",
    "n=int(input(\"enter n value\"))\n",
    "def perfectnumber(n):\n",
    "    sum1=0\n",
    "    for i in range(1,(n//2)+1):\n",
    "        if n%i==0:\n",
    "            sum1=sum1+i\n",
    "    if sum1==n:\n",
    "        print(\"perfect number\")\n",
    "    else:\n",
    "        print(\"not a perfect number\")\n",
    "perfectnumber(n)"
   ]
  },
  {
   "cell_type": "code",
   "execution_count": 3,
   "metadata": {},
   "outputs": [
    {
     "name": "stdout",
     "output_type": "stream",
     "text": [
      "enter n value5\n"
     ]
    },
    {
     "data": {
      "text/plain": [
       "1"
      ]
     },
     "execution_count": 3,
     "metadata": {},
     "output_type": "execute_result"
    }
   ],
   "source": [
    "# prime number program\n",
    "# without arguments with return value\n",
    "def checkprime():\n",
    "    n=int(input(\"enter n value\"))\n",
    "    count=0\n",
    "    for i in range( 1,n+1):\n",
    "        if(n%i==0):\n",
    "            count=count+1\n",
    "    if count==2:\n",
    "        return 1\n",
    "    else:\n",
    "        return 0\n",
    "checkprime()"
   ]
  },
  {
   "cell_type": "code",
   "execution_count": 4,
   "metadata": {},
   "outputs": [
    {
     "name": "stdout",
     "output_type": "stream",
     "text": [
      "enter your namesarvani\n",
      "good afternoon sarvani\n"
     ]
    }
   ],
   "source": [
    "# greet a messge\n",
    "# without arguments without return value\n",
    "def greeting():\n",
    "    name=input(\"enter your name\")\n",
    "    print(\"good afternoon\",name)\n",
    "greeting()"
   ]
  },
  {
   "cell_type": "markdown",
   "metadata": {},
   "source": [
    "# strings"
   ]
  },
  {
   "cell_type": "code",
   "execution_count": 5,
   "metadata": {},
   "outputs": [
    {
     "name": "stdout",
     "output_type": "stream",
     "text": [
      "10\n",
      "['__add__', '__class__', '__contains__', '__delattr__', '__dir__', '__doc__', '__eq__', '__format__', '__ge__', '__getattribute__', '__getitem__', '__getnewargs__', '__gt__', '__hash__', '__init__', '__init_subclass__', '__iter__', '__le__', '__len__', '__lt__', '__mod__', '__mul__', '__ne__', '__new__', '__reduce__', '__reduce_ex__', '__repr__', '__rmod__', '__rmul__', '__setattr__', '__sizeof__', '__str__', '__subclasshook__', 'capitalize', 'casefold', 'center', 'count', 'encode', 'endswith', 'expandtabs', 'find', 'format', 'format_map', 'index', 'isalnum', 'isalpha', 'isascii', 'isdecimal', 'isdigit', 'isidentifier', 'islower', 'isnumeric', 'isprintable', 'isspace', 'istitle', 'isupper', 'join', 'ljust', 'lower', 'lstrip', 'maketrans', 'partition', 'replace', 'rfind', 'rindex', 'rjust', 'rpartition', 'rsplit', 'rstrip', 'split', 'splitlines', 'startswith', 'strip', 'swapcase', 'title', 'translate', 'upper', 'zfill']\n"
     ]
    }
   ],
   "source": [
    "s=1401661900\n",
    "length=len(str(s))\n",
    "print(length)\n",
    "print(dir(str))"
   ]
  },
  {
   "cell_type": "code",
   "execution_count": 18,
   "metadata": {},
   "outputs": [
    {
     "name": "stdout",
     "output_type": "stream",
     "text": [
      "Hello python\n",
      "True\n",
      "True\n",
      "True\n",
      "True\n",
      "True\n",
      "True\n",
      "False\n",
      "True\n",
      "False\n",
      "True\n"
     ]
    }
   ],
   "source": [
    "s=\"hello python\"\n",
    "print(s.capitalize())\n",
    "st=\"sarvani1002\"\n",
    "print(st.isalnum())\n",
    "st1=\"hello\"\n",
    "print(st1.isalpha())\n",
    "st2=\"012345\"\n",
    "print(st2.isdecimal())\n",
    "ident=\"hello\"\n",
    "print(ident.isidentifier())\n",
    "ch='a'\n",
    "print(ch.islower())\n",
    "data=\"10+20\"\n",
    "print(data.isprintable())\n",
    "ch='A'\n",
    "print(ch.islower())\n",
    "data='10+20'\n",
    "print(data.isprintable())\n",
    "title=\"hello python\"\n",
    "print(title.istitle())\n",
    "title=\"Hello Python\"\n",
    "print(title.istitle())\n",
    "\n"
   ]
  },
  {
   "cell_type": "code",
   "execution_count": 28,
   "metadata": {},
   "outputs": [
    {
     "name": "stdout",
     "output_type": "stream",
     "text": [
      "2\n",
      "2\n",
      "6\n",
      "I am  from APSSDC taking around30000rupees\n",
      "11\n",
      "hello\n",
      "   hello\n",
      "good worning\n",
      "HAPPY BIRTHDAY SARVANI\n"
     ]
    }
   ],
   "source": [
    "s=\"hello python\"\n",
    "print(s.count('o'))\n",
    "s=\"hello python\"\n",
    "print(s.count('h'))\n",
    "s=\"hello python\"\n",
    "print(s.find('p'))\n",
    "apssdc=\"I am  from APSSDC taking around{salary:}rupees\"\n",
    "print(apssdc.format(salary=30000))\n",
    "print(apssdc.index('A'))\n",
    "s1=\"   hello\"\n",
    "print(s1.lstrip())\n",
    "print(s1.rstrip())\n",
    "s2=\"good morning\"\n",
    "print(s2.replace('m','w'))\n",
    "s1=\"happy birthday sarvani\"\n",
    "print(s1.swapcase())\n"
   ]
  },
  {
   "cell_type": "markdown",
   "metadata": {},
   "source": [
    "# function reusability"
   ]
  },
  {
   "cell_type": "code",
   "execution_count": 2,
   "metadata": {},
   "outputs": [],
   "source": [
    "def prime(n):\n",
    "    count=0\n",
    "    for i in range(1,n+1):\n",
    "        if(n%i==0):\n",
    "            count=count+1\n",
    "    if(count==2):\n",
    "        print(n,end=\" \")9bkl.k /klop;[;'89pl8ou;o/.']"
   ]
  },
  {
   "cell_type": "code",
   "execution_count": null,
   "metadata": {},
   "outputs": [],
   "source": []
  }
 ],
 "metadata": {
  "kernelspec": {
   "display_name": "Python 3",
   "language": "python",
   "name": "python3"
  },
  "language_info": {
   "codemirror_mode": {
    "name": "ipython",
    "version": 3
   },
   "file_extension": ".py",
   "mimetype": "text/x-python",
   "name": "python",
   "nbconvert_exporter": "python",
   "pygments_lexer": "ipython3",
   "version": "3.7.1"
  }
 },
 "nbformat": 4,
 "nbformat_minor": 2
}
