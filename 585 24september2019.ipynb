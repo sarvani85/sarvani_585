{
 "cells": [
  {
   "cell_type": "markdown",
   "metadata": {},
   "source": [
    "# iterative statements(loop)\n",
    "- for\n",
    "- while"
   ]
  },
  {
   "cell_type": "code",
   "execution_count": 8,
   "metadata": {},
   "outputs": [
    {
     "name": "stdout",
     "output_type": "stream",
     "text": [
      "enter starting value20\n",
      "enter ending value40\n",
      "20 21 22 23 24 25 26 27 28 29 30 31 32 33 34 35 36 37 38 39 "
     ]
    }
   ],
   "source": [
    "start=int(input(\"enter starting value\"))\n",
    "end=int(input(\"enter ending value\"))\n",
    "for i in range(start,end):\n",
    "    print(i,end=\" \")\n",
    "    "
   ]
  },
  {
   "cell_type": "code",
   "execution_count": 9,
   "metadata": {},
   "outputs": [
    {
     "name": "stdout",
     "output_type": "stream",
     "text": [
      "enter starting value20\n",
      "enter ending value40\n",
      "20 21 22 23 24 25 26 27 28 29 30 31 32 33 34 35 36 37 38 39 40 "
     ]
    }
   ],
   "source": [
    "start=int(input(\"enter starting value\"))\n",
    "end=int(input(\"enter ending value\"))\n",
    "for i in range(start,end+1):\n",
    "    print(i,end=\" \")"
   ]
  },
  {
   "cell_type": "code",
   "execution_count": 10,
   "metadata": {},
   "outputs": [
    {
     "name": "stdout",
     "output_type": "stream",
     "text": [
      "enter starting value20\n",
      "enter ending value40\n",
      "20 25 30 35 "
     ]
    }
   ],
   "source": [
    "start=int(input(\"enter starting value\"))\n",
    "end=int(input(\"enter ending value\"))\n",
    "for i in range(start,end,5):\n",
    "    print(i,end=\" \")"
   ]
  },
  {
   "cell_type": "code",
   "execution_count": 11,
   "metadata": {
    "scrolled": true
   },
   "outputs": [
    {
     "name": "stdout",
     "output_type": "stream",
     "text": [
      "enter starting value100\n",
      "enter ending value200\n",
      "200 195 190 185 180 175 170 165 160 155 150 145 140 135 130 125 120 115 110 105 "
     ]
    }
   ],
   "source": [
    "start=int(input(\"enter starting value\"))\n",
    "end=int(input(\"enter ending value\"))\n",
    "for i in range(end,start,-5):\n",
    "    print(i,end=\" \")"
   ]
  },
  {
   "cell_type": "code",
   "execution_count": 12,
   "metadata": {},
   "outputs": [
    {
     "name": "stdout",
     "output_type": "stream",
     "text": [
      "value position 0 ---> 4\n",
      "value position 1 ---> 5\n",
      "value position 2 ---> 1\n",
      "value position 3 ---> 8\n",
      "value position 4 ---> 9\n",
      "value position 5 ---> 0\n",
      "value position 6 ---> 2\n",
      "value position 7 ---> 6\n",
      "value position 8 ---> 7\n",
      "value position 9 ---> 12\n",
      "value position 10 ---> 13\n"
     ]
    }
   ],
   "source": [
    "t=0\n",
    "for i in[4,5,1,8,9,0,2,6,7,12,13]:\n",
    "    print(\"value position\",t,\"--->\",i)\n",
    "    t=t+1\n"
   ]
  },
  {
   "cell_type": "code",
   "execution_count": 13,
   "metadata": {},
   "outputs": [
    {
     "name": "stdout",
     "output_type": "stream",
     "text": [
      "enter startig value1\n",
      "enter ending value10\n",
      "5 * 1 = 5\n",
      "5 * 2 = 10\n",
      "5 * 3 = 15\n",
      "5 * 4 = 20\n",
      "5 * 5 = 25\n",
      "5 * 6 = 30\n",
      "5 * 7 = 35\n",
      "5 * 8 = 40\n",
      "5 * 9 = 45\n",
      "5 * 10 = 50\n"
     ]
    }
   ],
   "source": [
    "# to print 5 table\n",
    "s=int(input(\"enter startig value\"))\n",
    "e=int(input(\"enter ending value\"))\n",
    "n=5\n",
    "for i in range(s,e+1):\n",
    "    exp=n*i\n",
    "    print(n,\"*\",i,\"=\",exp)\n"
   ]
  },
  {
   "cell_type": "code",
   "execution_count": 15,
   "metadata": {},
   "outputs": [
    {
     "name": "stdout",
     "output_type": "stream",
     "text": [
      "enter starting year1900\n",
      "enter ending year2020\n",
      "leap year 1904\n",
      "leap year 1908\n",
      "leap year 1912\n",
      "leap year 1916\n",
      "leap year 1920\n",
      "leap year 1924\n",
      "leap year 1928\n",
      "leap year 1932\n",
      "leap year 1936\n",
      "leap year 1940\n",
      "leap year 1944\n",
      "leap year 1948\n",
      "leap year 1952\n",
      "leap year 1956\n",
      "leap year 1960\n",
      "leap year 1964\n",
      "leap year 1968\n",
      "leap year 1972\n",
      "leap year 1976\n",
      "leap year 1980\n",
      "leap year 1984\n",
      "leap year 1988\n",
      "leap year 1992\n",
      "leap year 1996\n",
      "leap year 2000\n",
      "leap year 2004\n",
      "leap year 2008\n",
      "leap year 2012\n",
      "leap year 2016\n"
     ]
    }
   ],
   "source": [
    "# to print leap year using fo loop\n",
    "s=int(input(\"enter starting year\"))\n",
    "e=int(input(\"enter ending year\"))\n",
    "for i in range( s,e):\n",
    "    if i%4==0 and ((i%100!=0) or (i%400)==0):\n",
    "        print(\"leap year\",i)\n"
   ]
  },
  {
   "cell_type": "code",
   "execution_count": 3,
   "metadata": {},
   "outputs": [
    {
     "name": "stdout",
     "output_type": "stream",
     "text": [
      "enter starting value10\n",
      "enter ending value40\n",
      "even numbers 10\n",
      "odd numbers 11\n",
      "even numbers 12\n",
      "odd numbers 13\n",
      "even numbers 14\n",
      "odd numbers 15\n",
      "even numbers 16\n",
      "odd numbers 17\n",
      "even numbers 18\n",
      "odd numbers 19\n",
      "even numbers 20\n",
      "odd numbers 21\n",
      "even numbers 22\n",
      "odd numbers 23\n",
      "even numbers 24\n",
      "odd numbers 25\n",
      "even numbers 26\n",
      "odd numbers 27\n",
      "even numbers 28\n",
      "odd numbers 29\n",
      "even numbers 30\n",
      "odd numbers 31\n",
      "even numbers 32\n",
      "odd numbers 33\n",
      "even numbers 34\n",
      "odd numbers 35\n",
      "even numbers 36\n",
      "odd numbers 37\n",
      "even numbers 38\n",
      "odd numbers 39\n"
     ]
    }
   ],
   "source": [
    "# to check even or odd\n",
    "s=int(input(\"enter starting value\"))\n",
    "e=int(input(\"enter ending value\"))\n",
    "for i in range(s,e):\n",
    "    if(i%2==0):\n",
    "        print(\"even numbers\",i)\n",
    "    else:\n",
    "        print(\"odd numbers\",i)"
   ]
  },
  {
   "cell_type": "code",
   "execution_count": 11,
   "metadata": {},
   "outputs": [
    {
     "name": "stdout",
     "output_type": "stream",
     "text": [
      "enter starting value20\n",
      "enter ending vlue40\n",
      "20\n",
      "sum= 20\n",
      "22\n",
      "sum= 42\n",
      "24\n",
      "sum= 66\n",
      "26\n",
      "sum= 92\n",
      "28\n",
      "sum= 120\n",
      "30\n",
      "sum= 150\n",
      "32\n",
      "sum= 182\n",
      "34\n",
      "sum= 216\n",
      "36\n",
      "sum= 252\n",
      "38\n",
      "sum= 290\n"
     ]
    }
   ],
   "source": [
    "# to print even numbers sum\n",
    "s=int(input(\"enter starting value\"))\n",
    "e=int(input(\"enter ending vlue\"))\n",
    "s1=0\n",
    "for i in range( s,e):\n",
    "    if(i%2==0):\n",
    "        print(i,end=\"\")\n",
    "        s1=s1+i\n",
    "        print(\"\\nsum=\",s1)"
   ]
  },
  {
   "cell_type": "code",
   "execution_count": 13,
   "metadata": {},
   "outputs": [
    {
     "name": "stdout",
     "output_type": "stream",
     "text": [
      "enter startig value1\n",
      "enter ending value10\n",
      "5 * 2 + 2 ^ 1 ---> 12\n",
      "5 * 2 + 2 ^ 2 ---> 14\n",
      "5 * 2 + 2 ^ 3 ---> 18\n",
      "5 * 2 + 2 ^ 4 ---> 26\n",
      "5 * 2 + 2 ^ 5 ---> 42\n",
      "5 * 2 + 2 ^ 6 ---> 74\n",
      "5 * 2 + 2 ^ 7 ---> 138\n",
      "5 * 2 + 2 ^ 8 ---> 266\n",
      "5 * 2 + 2 ^ 9 ---> 522\n",
      "5 * 2 + 2 ^ 10 ---> 1034\n"
     ]
    }
   ],
   "source": [
    "s=int(input(\"enter startig value\"))\n",
    "e=int(input(\"enter ending value\"))\n",
    "n1=5\n",
    "n2=2\n",
    "for i in range(s,e+1):\n",
    "    exp=n1*n2+n2**i\n",
    "    print(n1,\"*\",n2,\"+\",n2,\"^\",i,\"--->\",exp)"
   ]
  },
  {
   "cell_type": "code",
   "execution_count": 15,
   "metadata": {},
   "outputs": [
    {
     "name": "stdout",
     "output_type": "stream",
     "text": [
      "enter startig value1\n",
      "enter ending value10\n",
      "1\n",
      "3\n",
      "6\n",
      "10\n",
      "15\n",
      "21\n",
      "28\n",
      "36\n",
      "45\n",
      "55\n"
     ]
    }
   ],
   "source": [
    "s=int(input(\"enter startig value\"))\n",
    "e=int(input(\"enter ending value\"))\n",
    "s1=0\n",
    "for i in range(s,e+1):\n",
    "    s1=s1+i\n",
    "    print(s1)\n"
   ]
  },
  {
   "cell_type": "code",
   "execution_count": 2,
   "metadata": {},
   "outputs": [
    {
     "name": "stdout",
     "output_type": "stream",
     "text": [
      "enter startig value30\n",
      "1 2 3 5 6 10 15 30 "
     ]
    }
   ],
   "source": [
    "n=int(input(\"enter startig value\"))\n",
    "for i in range(1,n+1):\n",
    "    if(n%i==0):\n",
    "        print(i,end=\" \")\n",
    "    "
   ]
  },
  {
   "cell_type": "code",
   "execution_count": 3,
   "metadata": {},
   "outputs": [
    {
     "name": "stdout",
     "output_type": "stream",
     "text": [
      "enter startig value30\n",
      "1 1\n",
      "2 3\n",
      "3 6\n",
      "5 11\n",
      "6 17\n",
      "10 27\n",
      "15 42\n",
      "30 72\n"
     ]
    }
   ],
   "source": [
    "n=int(input(\"enter startig value\"))\n",
    "s1=0\n",
    "for i in range(1,n+1):\n",
    "    if(n%i==0):\n",
    "        print(i,end=\" \")\n",
    "        s1=s1+i\n",
    "        print(s1)\n",
    "    "
   ]
  },
  {
   "cell_type": "code",
   "execution_count": 5,
   "metadata": {},
   "outputs": [
    {
     "ename": "SyntaxError",
     "evalue": "invalid syntax (<ipython-input-5-479ca0ebb162>, line 8)",
     "output_type": "error",
     "traceback": [
      "\u001b[1;36m  File \u001b[1;32m\"<ipython-input-5-479ca0ebb162>\"\u001b[1;36m, line \u001b[1;32m8\u001b[0m\n\u001b[1;33m    else:\u001b[0m\n\u001b[1;37m       ^\u001b[0m\n\u001b[1;31mSyntaxError\u001b[0m\u001b[1;31m:\u001b[0m invalid syntax\n"
     ]
    }
   ],
   "source": [
    "n=int(input(\"enter n value\"))\n",
    "count=1\n",
    "while(n!=1):\n",
    "    if(n%2==0):\n",
    "        print(n,\"--->\",n,\"/2\",end=\" \")\n",
    "        n=n/2\n",
    "        print(n)\n",
    "        else:\n",
    "            print(n,\"-->n\",n,\"3+1-->\",end=\" \")\n",
    "            n=n*3+1\n",
    "            print(n)\n",
    "            count=count+1\n",
    "            print(\"cycle cont=\",count)\n",
    "            \n",
    "            "
   ]
  },
  {
   "cell_type": "code",
   "execution_count": 1,
   "metadata": {},
   "outputs": [
    {
     "name": "stdout",
     "output_type": "stream",
     "text": [
      "no of test cases3\n",
      "enter n value1234\n",
      "10\n",
      "enter n value3456\n",
      "18\n",
      "enter n value8765\n",
      "26\n"
     ]
    }
   ],
   "source": [
    "# fing digits of sum\n",
    "t=int(input(\"no of test cases\"))\n",
    "for i in range(t):\n",
    "    n=int(input(\"enter n value\"))\n",
    "    s=0\n",
    "    while(n!=0):\n",
    "        s=s+(n%10)\n",
    "        n=n//10\n",
    "    print(s)"
   ]
  },
  {
   "cell_type": "code",
   "execution_count": 1,
   "metadata": {},
   "outputs": [
    {
     "name": "stdout",
     "output_type": "stream",
     "text": [
      "no of test cases2\n",
      "enter n value1234\n",
      "last digit= 4\n",
      "enter n value1234\n",
      "last digit= 4\n",
      "first digit= 1\n"
     ]
    }
   ],
   "source": [
    "t=int(input(\"no of test cases\"))\n",
    "for i in range(t):\n",
    "    n=int(input(\"enter n value\"))\n",
    "    print(\"last digit=\",n%10)\n",
    "    while(n>=10):\n",
    "        n=n//10\n",
    "print(\"first digit=\",n)\n",
    "    "
   ]
  },
  {
   "cell_type": "code",
   "execution_count": null,
   "metadata": {},
   "outputs": [
    {
     "name": "stdout",
     "output_type": "stream",
     "text": [
      "no of test cases3\n",
      "enter n value14009003241\n",
      "illegal isbn\n"
     ]
    }
   ],
   "source": [
    "t=int(input(\"no of test cases\"))\n",
    "for i in range(t):\n",
    "    n=int(input(\"enter n value\"))\n",
    "    temp=n\n",
    "    count=0\n",
    "    s=0\n",
    "    i=10\n",
    "    while(n!=0):\n",
    "        count=count+1\n",
    "        n=n//10\n",
    "    if(count==10):\n",
    "        while(temp!=0):\n",
    "            r=temp%10\n",
    "            s=s+(r*i)\n",
    "            i=i-1\n",
    "            temp=temp//10  \n",
    "        if(s%11==0):\n",
    "            print(\"legal isbn\")\n",
    "        else:\n",
    "            print(\"illegal isbn\")\n",
    "    else:\n",
    "        print(\"illegal isbn\")"
   ]
  },
  {
   "cell_type": "code",
   "execution_count": null,
   "metadata": {},
   "outputs": [],
   "source": []
  },
  {
   "cell_type": "code",
   "execution_count": null,
   "metadata": {},
   "outputs": [],
   "source": []
  }
 ],
 "metadata": {
  "kernelspec": {
   "display_name": "Python 3",
   "language": "python",
   "name": "python3"
  },
  "language_info": {
   "codemirror_mode": {
    "name": "ipython",
    "version": 3
   },
   "file_extension": ".py",
   "mimetype": "text/x-python",
   "name": "python",
   "nbconvert_exporter": "python",
   "pygments_lexer": "ipython3",
   "version": "3.7.1"
  }
 },
 "nbformat": 4,
 "nbformat_minor": 2
}
